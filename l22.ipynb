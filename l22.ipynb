{
 "cells": [
  {
   "cell_type": "code",
   "execution_count": null,
   "metadata": {},
   "outputs": [],
   "source": []
  },
  {
   "cell_type": "code",
   "execution_count": 2,
   "metadata": {},
   "outputs": [
    {
     "name": "stdout",
     "output_type": "stream",
     "text": [
      "Using NumPy backend\n"
     ]
    }
   ],
   "source": [
    "from l2_quantumComputer import QGate,QUGate,QState\n",
    "import pykronecker as pk\n",
    "import numpy as np\n",
    "import functools as ft\n",
    "%load_ext line_profiler\n",
    "QState._0() % QState._0()"
   ]
  },
  {
   "cell_type": "code",
   "execution_count": 9,
   "metadata": {},
   "outputs": [
    {
     "name": "stdout",
     "output_type": "stream",
     "text": [
      "328 ms ± 11.1 ms per loop (mean ± std. dev. of 7 runs, 1 loop each)\n"
     ]
    }
   ],
   "source": [
    "%%timeit\n",
    "state_00 = QState._0() % QState._0() % QState._0() % QState._0() % QState._0() % QState._0() % QState._0() % QState._0() % QState._0() % QState._0()\n",
    "had = QGate._hadamard() % QGate._id() % QGate._id() % QGate._id() % QGate._id() % QGate._id() % QGate._id() % QGate._id() % QGate._id() % QGate._id()\n",
    "cnot = (QGate._0() % QGate._id() % QGate._id() % QGate._id() % QGate._id() % QGate._id() % QGate._id()  % QGate._id() % QGate._id() % QGate._id()\n",
    "    + QGate._1() % QGate._id() % QGate._x() % QGate._id() % QGate._id() % QGate._id() % QGate._id() % QGate._id() % QGate._id() % QGate._id())\n",
    "cnot*had*state_00"
   ]
  },
  {
   "cell_type": "code",
   "execution_count": 12,
   "metadata": {},
   "outputs": [
    {
     "name": "stdout",
     "output_type": "stream",
     "text": [
      "348 μs ± 12.9 μs per loop (mean ± std. dev. of 7 runs, 1,000 loops each)\n"
     ]
    }
   ],
   "source": [
    "%%timeit\n",
    "state_00 = QState.create_state([QState._0()]*10)\n",
    "had = QGate.create_gate([QGate._hadamard()]+[QGate._id()]*9)\n",
    "cnot = QGate.create_gate([QGate._0(), QGate._id(), QGate._id()]+[QGate._id()]*7) + QGate.create_gate([QGate._1(), QGate._id(), QGate._x()]+[QGate._id()]*7)\n",
    "#cnot2 = QGate.create_gate([QGate._0(), QGate._id(), QGate._id()]+[QGate._id()]*7) + QGate.create_gate([QGate._1(), QGate._id(), QGate._x()]+[QGate._id()]*7)\n",
    "cnot*(had*state_00)"
   ]
  },
  {
   "cell_type": "code",
   "execution_count": 1,
   "metadata": {},
   "outputs": [],
   "source": [
    "def computer():\n",
    "    state_00 = QState.create_state([QState._0()]*10)\n",
    "    had = QGate.create_gate([QGate._hadamard()]+[QGate._id()]*9)\n",
    "    cnot = QGate.create_gate([QGate._0(), QGate._id(), QGate._id()]+[QGate._id()]*7) + QGate.create_gate([QGate._1(), QGate._id(), QGate._x()]+[QGate._id()]*7)\n",
    "    #cnot2 = QGate.create_gate([QGate._0(), QGate._id(), QGate._id()]+[QGate._id()]*7) + QGate.create_gate([QGate._1(), QGate._id(), QGate._x()]+[QGate._id()]*7)\n",
    "    cnot*(had*state_00)"
   ]
  },
  {
   "cell_type": "code",
   "execution_count": 8,
   "metadata": {},
   "outputs": [
    {
     "name": "stdout",
     "output_type": "stream",
     "text": [
      "Timer unit: 1e-07 s\n",
      "\n",
      "Total time: 0.0042948 s\n",
      "File: C:\\Users\\davtom\\AppData\\Local\\Temp\\ipykernel_19488\\4072367421.py\n",
      "Function: computer at line 1\n",
      "\n",
      "Line #      Hits         Time  Per Hit   % Time  Line Contents\n",
      "==============================================================\n",
      "     1                                           def computer():\n",
      "     2         1       5645.0   5645.0     13.1      state_00 = QState.create_state([QState._0()]*10)\n",
      "     3         1       3523.0   3523.0      8.2      had = QGate.create_gate([QGate._hadamard()]+[QGate._id()]*9)\n",
      "     4         1      13540.0  13540.0     31.5      cnot = QGate.create_gate([QGate._0(), QGate._id(), QGate._id()]+[QGate._id()]*7) + QGate.create_gate([QGate._1(), QGate._id(), QGate._x()]+[QGate._id()]*7)\n",
      "     5                                               #cnot2 = QGate.create_gate([QGate._0(), QGate._id(), QGate._id()]+[QGate._id()]*7) + QGate.create_gate([QGate._1(), QGate._id(), QGate._x()]+[QGate._id()]*7)\n",
      "     6         1      20240.0  20240.0     47.1      cnot*(had*state_00)"
     ]
    }
   ],
   "source": [
    "%lprun -f computer computer()"
   ]
  },
  {
   "cell_type": "code",
   "execution_count": 27,
   "metadata": {},
   "outputs": [
    {
     "name": "stdout",
     "output_type": "stream",
     "text": [
      "25.7 μs ± 790 ns per loop (mean ± std. dev. of 7 runs, 10,000 loops each)\n"
     ]
    }
   ],
   "source": [
    "%%timeit\n",
    "v=pk.KroneckerProduct([np.array([[1,0],[0,1]]),np.array([[1,0],[0,1]]),np.array([[1,0],[0,1]]),np.array([[1,0],[0,1]])])\n",
    "v@np.array([1,0,0,0,0,0,0,0,1,0,0,0,0,0,0,0])"
   ]
  },
  {
   "cell_type": "code",
   "execution_count": 28,
   "metadata": {},
   "outputs": [
    {
     "name": "stdout",
     "output_type": "stream",
     "text": [
      "45.7 μs ± 1.49 μs per loop (mean ± std. dev. of 7 runs, 10,000 loops each)\n"
     ]
    }
   ],
   "source": [
    "%%timeit\n",
    "v=ft.reduce(np.kron, [np.array([[1,0],[0,1]]),np.array([[1,0],[0,1]]),np.array([[1,0],[0,1]]),np.array([[1,0],[0,1]])])\n",
    "v@np.array([1,0,0,0,0,0,0,0,1,0,0,0,0,0,0,0])"
   ]
  },
  {
   "cell_type": "code",
   "execution_count": 2,
   "metadata": {},
   "outputs": [
    {
     "name": "stdout",
     "output_type": "stream",
     "text": [
      "19.1 ms ± 3.85 ms per loop (mean ± std. dev. of 7 runs, 100 loops each)\n"
     ]
    }
   ],
   "source": [
    "%%timeit\n",
    "state_00 = QState.create_state([QState._0().value]*10)"
   ]
  },
  {
   "cell_type": "code",
   "execution_count": 3,
   "metadata": {},
   "outputs": [
    {
     "ename": "NameError",
     "evalue": "name 'state_00' is not defined",
     "output_type": "error",
     "traceback": [
      "\u001b[1;31m---------------------------------------------------------------------------\u001b[0m",
      "\u001b[1;31mNameError\u001b[0m                                 Traceback (most recent call last)",
      "Cell \u001b[1;32mIn[3], line 1\u001b[0m\n\u001b[1;32m----> 1\u001b[0m \u001b[43mstate_00\u001b[49m\n",
      "\u001b[1;31mNameError\u001b[0m: name 'state_00' is not defined"
     ]
    }
   ],
   "source": []
  }
 ],
 "metadata": {
  "kernelspec": {
   "display_name": "sciqis",
   "language": "python",
   "name": "python3"
  },
  "language_info": {
   "codemirror_mode": {
    "name": "ipython",
    "version": 3
   },
   "file_extension": ".py",
   "mimetype": "text/x-python",
   "name": "python",
   "nbconvert_exporter": "python",
   "pygments_lexer": "ipython3",
   "version": "3.11.9"
  }
 },
 "nbformat": 4,
 "nbformat_minor": 2
}
