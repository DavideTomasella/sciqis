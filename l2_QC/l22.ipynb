{
 "cells": [
  {
   "cell_type": "code",
   "execution_count": null,
   "metadata": {},
   "outputs": [],
   "source": []
  },
  {
   "cell_type": "code",
   "execution_count": 1,
   "metadata": {},
   "outputs": [
    {
     "name": "stdout",
     "output_type": "stream",
     "text": [
      "Using NumPy backend\n"
     ]
    }
   ],
   "source": [
    "from l2_quantumComputer import QGate,QUGate,QState\n",
    "import pykronecker as pk\n",
    "import numpy as np\n",
    "import functools as ft\n",
    "%load_ext line_profiler"
   ]
  },
  {
   "cell_type": "code",
   "execution_count": 9,
   "metadata": {},
   "outputs": [
    {
     "name": "stdout",
     "output_type": "stream",
     "text": [
      "330 ms ± 12.1 ms per loop (mean ± std. dev. of 7 runs, 1 loop each)\n"
     ]
    }
   ],
   "source": [
    "%%timeit\n",
    "state_00 = QState._0() % QState._0() % QState._0() % QState._0() % QState._0() % QState._0() % QState._0() % QState._0() % QState._0() % QState._0()\n",
    "had = QGate.hadamard() % QGate.create_id() % QGate.create_id() % QGate.create_id() % QGate.create_id() % QGate.create_id() % QGate.create_id() % QGate.create_id() % QGate.create_id() % QGate.create_id()\n",
    "cnot = (QGate.m0x0() % QGate.create_id() % QGate.create_id() % QGate.create_id() % QGate.create_id() % QGate.create_id() % QGate.create_id()  % QGate.create_id() % QGate.create_id() % QGate.create_id()\n",
    "    + QGate.m1x1() % QGate.create_id() % QGate.X() % QGate.create_id() % QGate.create_id() % QGate.create_id() % QGate.create_id() % QGate.create_id() % QGate.create_id() % QGate.create_id())\n",
    "cnot*had*state_00"
   ]
  },
  {
   "cell_type": "code",
   "execution_count": 2,
   "metadata": {},
   "outputs": [
    {
     "name": "stdout",
     "output_type": "stream",
     "text": [
      "281 μs ± 3.14 μs per loop (mean ± std. dev. of 7 runs, 1,000 loops each)\n"
     ]
    }
   ],
   "source": [
    "%%timeit\n",
    "N=10\n",
    "state_00 = QState.create_state([QState._0()]*N)\n",
    "had = QGate.hadamard([0,2],n=N)\n",
    "cnot = QGate.cnot(0,1,n=N)\n",
    "#cnot2 = QGate.create_gate([QGate._0x0(), QGate.create_id(), QGate.create_id()]+[QGate.create_id()]*7) + QGate.create_gate([QGate.m1x1x1(), QGate.create_id(), QGate._X()]+[QGate.create_id()]*7)\n",
    "cnot*(had*state_00)"
   ]
  },
  {
   "cell_type": "code",
   "execution_count": 14,
   "metadata": {},
   "outputs": [],
   "source": [
    "def computer():\n",
    "    state_00 = QState.create_state([QState._0()]*10)\n",
    "    had = QGate.create_N_gate([QGate.hadamard()]+[QGate.create_id()]*9)\n",
    "    cnot = QGate.create_N_gate([QGate.m0x0(), QGate.create_id(), QGate.create_id()]+[QGate.create_id()]*7) + QGate.create_N_gate([QGate.m1x1(), QGate.create_id(), QGate.X()]+[QGate.create_id()]*7)\n",
    "    #cnot2 = QGate.create_gate([QGate._0(), QGate.create_id(), QGate.create_id()]+[QGate.create_id()]*7) + QGate.create_gate([QGate.m1x1(), QGate.create_id(), QGate._X()]+[QGate.create_id()]*7)\n",
    "    cnot*(had*state_00)"
   ]
  },
  {
   "cell_type": "code",
   "execution_count": 15,
   "metadata": {},
   "outputs": [
    {
     "name": "stdout",
     "output_type": "stream",
     "text": [
      "Timer unit: 1e-07 s\n",
      "\n",
      "Total time: 0.0055833 s\n",
      "File: C:\\Users\\davtom\\AppData\\Local\\Temp\\ipykernel_26392\\2899297323.py\n",
      "Function: computer at line 1\n",
      "\n",
      "Line #      Hits         Time  Per Hit   % Time  Line Contents\n",
      "==============================================================\n",
      "     1                                           def computer():\n",
      "     2         1      12946.0  12946.0     23.2      state_00 = QState.create_state([QState._0()]*10)\n",
      "     3         1       9877.0   9877.0     17.7      had = QGate.create_N_gate([QGate.hadamard()]+[QGate.create_id()]*9)\n",
      "     4         1      17411.0  17411.0     31.2      cnot = QGate.create_N_gate([QGate.m0x0(), QGate.create_id(), QGate.create_id()]+[QGate.create_id()]*7) + QGate.create_N_gate([QGate.m1x1(), QGate.create_id(), QGate.X()]+[QGate.create_id()]*7)\n",
      "     5                                               #cnot2 = QGate.create_gate([QGate._0(), QGate.create_id(), QGate.create_id()]+[QGate.create_id()]*7) + QGate.create_gate([QGate.m1x1(), QGate.create_id(), QGate._X()]+[QGate.create_id()]*7)\n",
      "     6         1      15599.0  15599.0     27.9      cnot*(had*state_00)"
     ]
    }
   ],
   "source": [
    "%lprun -f computer computer()"
   ]
  },
  {
   "cell_type": "code",
   "execution_count": 7,
   "metadata": {},
   "outputs": [
    {
     "name": "stdout",
     "output_type": "stream",
     "text": [
      "51 μs ± 2 μs per loop (mean ± std. dev. of 7 runs, 10,000 loops each)\n"
     ]
    }
   ],
   "source": [
    "%%timeit\n",
    "v=pk.KroneckerProduct([np.array([[1,0],[0,1]]),np.array([[1,0],[0,1]]),np.array([[1,0],[0,1]]),np.array([[1,0],[0,1]])])\n",
    "v2=pk.KroneckerProduct([np.array([[1,0],[0,1]]),np.array([[1,0],[0,1]]),np.array([[1,0],[0,1]]),np.array([[1,0],[0,1]])])\n",
    "v=v@v2\n",
    "v@np.array([1,0,0,0,0,0,0,0,1,0,0,0,0,0,0,0])"
   ]
  },
  {
   "cell_type": "code",
   "execution_count": 8,
   "metadata": {},
   "outputs": [
    {
     "name": "stdout",
     "output_type": "stream",
     "text": [
      "98.7 μs ± 7.5 μs per loop (mean ± std. dev. of 7 runs, 10,000 loops each)\n"
     ]
    }
   ],
   "source": [
    "%%timeit\n",
    "v=ft.reduce(np.kron, [np.array([[1,0],[0,1]]),np.array([[1,0],[0,1]]),np.array([[1,0],[0,1]]),np.array([[1,0],[0,1]])])\n",
    "v2=ft.reduce(np.kron, [np.array([[1,0],[0,1]]),np.array([[1,0],[0,1]]),np.array([[1,0],[0,1]]),np.array([[1,0],[0,1]])])\n",
    "v=v@v2\n",
    "v@np.array([1,0,0,0,0,0,0,0,1,0,0,0,0,0,0,0])"
   ]
  },
  {
   "cell_type": "code",
   "execution_count": 2,
   "metadata": {},
   "outputs": [
    {
     "name": "stdout",
     "output_type": "stream",
     "text": [
      "19.1 ms ± 3.85 ms per loop (mean ± std. dev. of 7 runs, 100 loops each)\n"
     ]
    }
   ],
   "source": [
    "%%timeit\n",
    "state_00 = QState.create_state([QState._0().value]*10)"
   ]
  },
  {
   "cell_type": "code",
   "execution_count": 3,
   "metadata": {},
   "outputs": [
    {
     "ename": "NameError",
     "evalue": "name 'state_00' is not defined",
     "output_type": "error",
     "traceback": [
      "\u001b[1;31m---------------------------------------------------------------------------\u001b[0m",
      "\u001b[1;31mNameError\u001b[0m                                 Traceback (most recent call last)",
      "Cell \u001b[1;32mIn[3], line 1\u001b[0m\n\u001b[1;32m----> 1\u001b[0m \u001b[43mstate_00\u001b[49m\n",
      "\u001b[1;31mNameError\u001b[0m: name 'state_00' is not defined"
     ]
    }
   ],
   "source": []
  }
 ],
 "metadata": {
  "kernelspec": {
   "display_name": "sciqis",
   "language": "python",
   "name": "python3"
  },
  "language_info": {
   "codemirror_mode": {
    "name": "ipython",
    "version": 3
   },
   "file_extension": ".py",
   "mimetype": "text/x-python",
   "name": "python",
   "nbconvert_exporter": "python",
   "pygments_lexer": "ipython3",
   "version": "3.11.9"
  }
 },
 "nbformat": 4,
 "nbformat_minor": 2
}
